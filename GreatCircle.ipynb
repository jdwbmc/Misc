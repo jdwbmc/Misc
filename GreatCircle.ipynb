{
 "cells": [
  {
   "cell_type": "code",
   "execution_count": null,
   "metadata": {},
   "outputs": [],
   "source": [
    "import math\n",
    "\n",
    "def distance_on_unit_sphere(lat1, long1, lat2, long2):\n",
    "\n",
    "# Convert latitude and longitude to\n",
    "# spherical coordinates in radians.\n",
    "degrees_to_radians = math.pi/180.0\n",
    "\n",
    "# phi = 90 - latitude\n",
    "phi1 = (90.0 - lat1)*degrees_to_radians\n",
    "phi2 = (90.0 - lat2)*degrees_to_radians\n",
    "\n",
    "# theta = longitude\n",
    "theta1 = long1*degrees_to_radians\n",
    "theta2 = long2*degrees_to_radians\n",
    "\n",
    "# Compute spherical distance from spherical coordinates.\n",
    "\n",
    "# For two locations in spherical coordinates\n",
    "# (1, theta, phi) and (1, theta', phi')\n",
    "# cosine( arc length ) =\n",
    "# sin phi sin phi' cos(theta-theta') + cos phi cos phi'\n",
    "# distance = rho * arc length\n",
    "\n",
    "cos = (math.sin(phi1)*math.sin(phi2)*math.cos(theta1 - theta2) +\n",
    "math.cos(phi1)*math.cos(phi2))\n",
    "arc = math.acos( cos )\n",
    "\n",
    "# Remember to multiply arc by the radius of the earth\n",
    "# in your favorite set of units to get length.\n",
    "return arc"
   ]
  }
 ],
 "metadata": {
  "kernelspec": {
   "display_name": "Python 3",
   "language": "python",
   "name": "python3"
  },
  "language_info": {
   "codemirror_mode": {
    "name": "ipython",
    "version": 3
   },
   "file_extension": ".py",
   "mimetype": "text/x-python",
   "name": "python",
   "nbconvert_exporter": "python",
   "pygments_lexer": "ipython3",
   "version": "3.8.3"
  }
 },
 "nbformat": 4,
 "nbformat_minor": 4
}
